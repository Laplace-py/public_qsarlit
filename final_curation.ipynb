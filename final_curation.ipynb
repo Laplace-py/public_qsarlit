{
 "cells": [
  {
   "cell_type": "markdown",
   "id": "b0c69e97",
   "metadata": {},
   "source": [
    "CURATION SCRIPT\n",
    "by: Igor Sanches"
   ]
  },
  {
   "cell_type": "markdown",
   "id": "4e154193",
   "metadata": {},
   "source": [
    "**IMPORT DEPENDENCIES AND IN-HOUSE FUNCTIONS**"
   ]
  },
  {
   "cell_type": "code",
   "execution_count": null,
   "id": "d4141f75",
   "metadata": {},
   "outputs": [],
   "source": [
    "#import libraries and dependencies\n",
    "import pandas as pd\n",
    "import math\n",
    "import numpy as np\n",
    "\n",
    "from rdkit import Chem\n",
    "from chembl_structure_pipeline import standardizer\n",
    "from rdkit.Chem.MolStandardize.metal import MetalDisconnector\n",
    "import rdkit.Chem.MolStandardize.rdMolStandardize as rdMolStandardize\n",
    "from rdkit.Chem import PandasTools\n",
    "\n",
    "from rdkit.Chem.SaltRemover import SaltRemover\n",
    "from rdkit.Chem import inchi as rd_inchi\n",
    "\n",
    "from molvs import standardize_smiles\n",
    "from molvs import Standardizer\n",
    "from rdkit.Chem import Draw"
   ]
  },
  {
   "cell_type": "code",
   "execution_count": null,
   "id": "7cd21c55",
   "metadata": {},
   "outputs": [],
   "source": [
    "#in-house functions\n",
    "def metal_atomic_numbers(at):\n",
    "    \"\"\" This function checks the atomic number of an atom \"\"\"\n",
    "    \n",
    "    n = at.GetAtomicNum()\n",
    "    return (n==13) or (n>=21 and n<=31) or (n>=39 and n<=50) or (n>=57 and n<=83) or (n>=89 and n<=115)\n",
    "\n",
    "def is_metal(smile):\n",
    "    \"\"\" This function checks if an atom is a metal based on its atomic number \"\"\"\n",
    "    mol = Chem.MolFromSmiles(smile)\n",
    "    rwmol = Chem.RWMol(mol)\n",
    "    rwmol.UpdatePropertyCache(strict=False)\n",
    "    metal = [at.GetSymbol() for at in rwmol.GetAtoms() if metal_atomic_numbers(at)]\n",
    "    return len(metal) == 1\n",
    "\n",
    "def smiles_preparator(smile):\n",
    "    \"\"\" This function prepares smiles by removing stereochemistry \"\"\"\n",
    "    smile1 = smile.replace('@','')\n",
    "    smile2 = smile1.replace('/','')\n",
    "    smile3 = smile2.replace(\"\\\\\",'')\n",
    "    return str(smile3)\n",
    "\n",
    "def neutralizeRadicals(mol):\n",
    "    for a in mol.GetAtoms():\n",
    "        if a.GetNumRadicalElectrons()==1 and a.GetFormalCharge()==1:\n",
    "            a.SetNumRadicalElectrons(0)         \n",
    "            a.SetFormalCharge(0)\n",
    "            \n",
    "def salt_remover(mol):\n",
    "    \"\"\" This function removes salts, see complete list of possible salts in https://github.com/rdkit/rdkit/blob/master/Data/Salts.txt \"\"\"\n",
    "    remover1 = SaltRemover(defnData=None)\n",
    "    remover2 = SaltRemover(defnData=\"[Cl,Br,I]\")\n",
    "    remover3 = SaltRemover(defnData=\"[Li,Na,K,Ca,Mg]\")\n",
    "    remover4 = SaltRemover(defnData=\"[O,N]\")\n",
    "    remover5 = SaltRemover(defnData=\"[H]\")\n",
    "    remover6 = SaltRemover(defnData=\"[Ba]\")\n",
    "    remover7 = SaltRemover(defnData=\"[Al]\")\n",
    "    remover8 = SaltRemover(defnData=\"[Cu]\")\n",
    "    remover9 = SaltRemover(defnData=\"[Cs]\")\n",
    "    remover10 = SaltRemover(defnData=\"[Zn]\")\n",
    "    remover11 = SaltRemover(defnData=\"[Mn]\")\n",
    "    remover12 = SaltRemover(defnData=\"Cl[Cr]Cl\")\n",
    "    remover13 = SaltRemover(defnData=\"COS(=O)(=O)[O-]\")\n",
    "    remover14 = SaltRemover(defnData=\"[Sb]\")\n",
    "    remover15 = SaltRemover(defnData=\"[Cr]\")\n",
    "    remover16 = SaltRemover(defnData=\"[Ni]\")\n",
    "    remover17 = SaltRemover(defnData=\"[B]\")\n",
    "    remover18 = SaltRemover(defnData=\"CCN(CC)CC\")\n",
    "    remover19 = SaltRemover(defnData=\"NCCO\")\n",
    "    remover20 = SaltRemover(defnData=\"O=CO\")\n",
    "    remover21 = SaltRemover(defnData=\"O=S(=O)([O-])C(F)(F)F\")\n",
    "    stripped1 = remover1.StripMol(mol, dontRemoveEverything=True)\n",
    "    stripped2 = remover2.StripMol(stripped1, dontRemoveEverything=True)\n",
    "    stripped3 = remover3.StripMol(stripped2, dontRemoveEverything=True)\n",
    "    stripped4 = remover4.StripMol(stripped3, dontRemoveEverything=True)\n",
    "    stripped5 = remover5.StripMol(stripped4, dontRemoveEverything=True)\n",
    "    stripped6 = remover6.StripMol(stripped5, dontRemoveEverything=True)\n",
    "    stripped7 = remover7.StripMol(stripped6, dontRemoveEverything=True)\n",
    "    stripped8 = remover8.StripMol(stripped7, dontRemoveEverything=True)\n",
    "    stripped9 = remover9.StripMol(stripped8, dontRemoveEverything=True)\n",
    "    stripped10 = remover10.StripMol(stripped9, dontRemoveEverything=True)\n",
    "    stripped11 = remover11.StripMol(stripped10, dontRemoveEverything=True)\n",
    "    stripped12 = remover12.StripMol(stripped11, dontRemoveEverything=True)\n",
    "    stripped13 = remover13.StripMol(stripped12, dontRemoveEverything=True)\n",
    "    stripped14 = remover14.StripMol(stripped13, dontRemoveEverything=True)\n",
    "    stripped15 = remover15.StripMol(stripped14, dontRemoveEverything=True)\n",
    "    stripped16 = remover16.StripMol(stripped15, dontRemoveEverything=True)\n",
    "    stripped17 = remover17.StripMol(stripped16, dontRemoveEverything=True)\n",
    "    stripped18 = remover18.StripMol(stripped17, dontRemoveEverything=True)\n",
    "    stripped19 = remover19.StripMol(stripped18, dontRemoveEverything=True)\n",
    "    stripped20 = remover20.StripMol(stripped19, dontRemoveEverything=True)\n",
    "    stripped21 = remover21.StripMol(stripped20, dontRemoveEverything=True)\n",
    "    return stripped21"
   ]
  },
  {
   "cell_type": "markdown",
   "id": "0987bb71",
   "metadata": {},
   "source": [
    "**SET PATH**"
   ]
  },
  {
   "cell_type": "code",
   "execution_count": null,
   "id": "b704a1b0",
   "metadata": {},
   "outputs": [],
   "source": [
    "#choose a path to save\n",
    "savepath = r'D:\\python\\jupyterscripts\\curation'"
   ]
  },
  {
   "cell_type": "code",
   "execution_count": null,
   "id": "8e34034c",
   "metadata": {},
   "outputs": [],
   "source": [
    "#import dataset\n",
    "df4 = pd.read_csv(r'D:\\python\\jupyterscripts\\curation\\natura\\data_natura.csv', encoding='latin-1')\n",
    "\n",
    "df4"
   ]
  },
  {
   "cell_type": "markdown",
   "id": "53431d3e",
   "metadata": {},
   "source": [
    "**DATA PREPARATION**"
   ]
  },
  {
   "cell_type": "code",
   "execution_count": null,
   "id": "bf653404",
   "metadata": {},
   "outputs": [],
   "source": [
    "#remove unwanted columns\n",
    "dropList = ['Standard Type', 'Standard Units', 'Assay ChEMBL ID', 'Assay Description', 'Document ChEMBL ID', 'Assay Cell Type']\n",
    "df1 = df0.drop(columns = dropList)\n",
    "df1"
   ]
  },
  {
   "cell_type": "code",
   "execution_count": null,
   "id": "97ea0ff2",
   "metadata": {},
   "outputs": [],
   "source": [
    "#rename columns\n",
    "df1.rename(columns = {'Molecule ChEMBL ID':'ID', 'Smiles':'SMILES', 'Standard Value':'IC50 (nM)', 'Standard Relation':'Relation'}, inplace = True)"
   ]
  },
  {
   "cell_type": "code",
   "execution_count": null,
   "id": "ed2706be",
   "metadata": {},
   "outputs": [],
   "source": [
    "#check for unique values before deleting\n",
    "#df1['Relation'].unique()"
   ]
  },
  {
   "cell_type": "code",
   "execution_count": null,
   "id": "9f02abaf",
   "metadata": {},
   "outputs": [],
   "source": [
    "#drop rows with missing values (only drop rows with missing values on activity column)\n",
    "df4 = df1.dropna(subset=['IC50 (nM)'])\n",
    "\n",
    "#total removed with activity missing values \n",
    "total_removed1 = len(df1)-len(df4)\n",
    "\n",
    "#drop rows with missing values (only drop rows with missing values on relation column)\n",
    "#df3 = df2.dropna(subset=['Relation'])\n",
    "\n",
    "#total removed with relation missing values \n",
    "#total_removed2 = len(df2)-len(df3)\n",
    "total_removed1"
   ]
  },
  {
   "cell_type": "code",
   "execution_count": null,
   "id": "fe4eeab5",
   "metadata": {},
   "outputs": [],
   "source": [
    "#drop all values != '='\n",
    "#df4 = df3[df3.Relation == \"'='\"]\n",
    "\n",
    "#total removed with relation =! '=' \n",
    "#total_removed3 = len(df3)-len(df4)\n",
    "\n",
    "#check for unique values before deleting\n",
    "#df4['Relation'].unique()"
   ]
  },
  {
   "cell_type": "code",
   "execution_count": null,
   "id": "869a1922",
   "metadata": {},
   "outputs": [],
   "source": [
    "ic50uuM = []\n",
    "for value in df4['IC50 (nM)']:\n",
    "    ic50uM = value / 1000\n",
    "    ic50uuM.append(ic50uM)\n",
    "df4['IC50 (uM)'] = ic50uuM"
   ]
  },
  {
   "cell_type": "code",
   "execution_count": null,
   "id": "c7f405f2",
   "metadata": {},
   "outputs": [],
   "source": [
    "df4"
   ]
  },
  {
   "cell_type": "code",
   "execution_count": null,
   "id": "44905be2",
   "metadata": {},
   "outputs": [],
   "source": [
    "#convert to pIC50\n",
    "pic50 = []\n",
    "for value in df4['IC50 (uM)']:\n",
    "    pic50.append(-(math.log10(value*10**-6)))\n",
    "\n",
    "df4['pIC50 (uM)'] = pic50"
   ]
  },
  {
   "cell_type": "code",
   "execution_count": null,
   "id": "8d87e4fd",
   "metadata": {},
   "outputs": [],
   "source": [
    "df4"
   ]
  },
  {
   "cell_type": "code",
   "execution_count": null,
   "id": "8c8e290a",
   "metadata": {},
   "outputs": [],
   "source": [
    "#remove stereoisomers \n",
    "smiles = [smiles_preparator(str(smile)) for smile in df4['SMILES']]\n",
    "df4['SMILES_no_stereo'] = smiles\n",
    "\n",
    "#remove relation column\n",
    "#df4 = df4.drop(columns = 'Relation')\n",
    "df4"
   ]
  },
  {
   "cell_type": "code",
   "execution_count": null,
   "id": "1ee9f116",
   "metadata": {},
   "outputs": [],
   "source": [
    "df4 = df4.drop(columns = 'IC50 (nM)')\n",
    "df4"
   ]
  },
  {
   "cell_type": "markdown",
   "id": "8d95540a",
   "metadata": {},
   "source": [
    "**REMOVE SALTS AND INVALID SMILES**"
   ]
  },
  {
   "cell_type": "code",
   "execution_count": null,
   "id": "8212bf00",
   "metadata": {},
   "outputs": [],
   "source": [
    "#remove salts\n",
    "wrongSmiles = []\n",
    "new_smiles = []\n",
    "indexDropList_salts = []\n",
    "for index, smile in enumerate(df4['SMILES_no_stereo']):\n",
    "    try:\n",
    "        mol = Chem.MolFromSmiles(smile)\n",
    "        remov = salt_remover(mol)\n",
    "        if remov.GetNumAtoms() <= 2:\n",
    "            indexDropList_salts.append(index)\n",
    "        else:\n",
    "            new_smiles.append(Chem.MolToSmiles(remov, kekuleSmiles=False))\n",
    "        \n",
    "    except:\n",
    "        wrongSmiles.append(df4.iloc[[index]])\n",
    "        indexDropList_salts.append(index)\n",
    "\n",
    "\n",
    "if len(wrongSmiles) == 0:\n",
    "    print(\"no wrong smiles found\")\n",
    "    \n",
    "else:\n",
    "    #drop wrong smiles\n",
    "    df4 = df4.drop(df4.index[indexDropList_salts])\n",
    "    \n",
    "    print(f\"{len(wrongSmiles)} wrong smiles found\")\n",
    "    \n",
    "    #save removes mixtures\n",
    "    wrongsmiles = pd.concat(wrongSmiles)\n",
    "    wrongsmiles.to_csv(f'{savepath}\\\\wrongsmiles.csv', sep=',', header=True, index=False)\n",
    "df4['SMILES_no_salts'] = new_smiles\n",
    "df4 "
   ]
  },
  {
   "cell_type": "markdown",
   "id": "6ec4fbec",
   "metadata": {},
   "source": [
    "**REMOVE ORGANOMETALLICS**"
   ]
  },
  {
   "cell_type": "code",
   "execution_count": null,
   "id": "3d6cb5d7",
   "metadata": {},
   "outputs": [],
   "source": [
    "organometals = []\n",
    "indexDropList_org = []\n",
    "for index, smile in enumerate(df4['SMILES_no_salts']):\n",
    "    if is_metal(smile) == True:\n",
    "        organometals.append(df4.iloc[[index]])\n",
    "        indexDropList_org.append(index)\n",
    "\n",
    "if len(indexDropList_org) == 0:\n",
    "    print(\"no organometallics found\")\n",
    "    \n",
    "else:\n",
    "    #drop organometallics\n",
    "    df4 = df4.drop(df4.index[indexDropList_org])\n",
    "    \n",
    "    print(f\"{len(indexDropList_org)} organometallics found\")\n",
    "    \n",
    "    #save droped organometallics\n",
    "    organmetal = pd.concat(organometals)\n",
    "    organmetal.to_csv(f'{savepath}\\\\organometallics.csv', sep=',', header=True, index=False)\n",
    "df4"
   ]
  },
  {
   "cell_type": "markdown",
   "id": "35937f65",
   "metadata": {},
   "source": [
    "**REMOVE MIXTURES**"
   ]
  },
  {
   "cell_type": "code",
   "execution_count": null,
   "id": "32968b64",
   "metadata": {},
   "outputs": [],
   "source": [
    "#remove mixtures\n",
    "mixtureList = []\n",
    "indexDropList_mix = []\n",
    "for index, smile in enumerate (df4['SMILES_no_salts']):\n",
    "    for char in smile:\n",
    "        if char == '.':\n",
    "            mixtureList.append(df4.iloc[[index]])\n",
    "            indexDropList_mix.append(index)\n",
    "            break\n",
    "\n",
    "            \n",
    "if len(indexDropList_mix) == 0:\n",
    "    print(\"no mixtures found\")\n",
    "    \n",
    "else:\n",
    "    #drop mixtures\n",
    "    df4 = df4.drop(df4.index[indexDropList_mix])\n",
    "    \n",
    "    print(f\"{len(indexDropList_mix)} mixtures found\")\n",
    "    \n",
    "    #save removes mixtures\n",
    "    mixtures = pd.concat(mixtureList)\n",
    "    mixtures.to_csv(f'{savepath}\\\\mixtures.csv', sep=',', header=True, index=False)\n",
    "df4 "
   ]
  },
  {
   "cell_type": "markdown",
   "id": "72345974",
   "metadata": {},
   "source": [
    "**STANDARDISE**"
   ]
  },
  {
   "cell_type": "code",
   "execution_count": null,
   "id": "f869a48f",
   "metadata": {},
   "outputs": [],
   "source": [
    "\"\"\"\n",
    "    -Standardize unknown stereochemistry (Handled by the RDKit Mol file parser)\n",
    "        Fix wiggly bonds on sp3 carbons - sets atoms and bonds marked as unknown stereo to no stereo\n",
    "        Fix wiggly bonds on double bonds – set double bond to crossed bond\n",
    "    -Clears S Group data from the mol file\n",
    "    -Kekulize the structure\n",
    "    -Remove H atoms (See the page on explicit Hs for more details)\n",
    "    -Normalization:\n",
    "        Fix hypervalent nitro groups\n",
    "        Fix KO to K+ O- and NaO to Na+ O- (Also add Li+ to this)\n",
    "        Correct amides with N=COH\n",
    "        Standardise sulphoxides to charge separated form\n",
    "        Standardize diazonium N (atom :2 here: [*:1]-[N;X2:2]#[N;X1:3]>>[*:1]) to N+\n",
    "        Ensure quaternary N is charged\n",
    "        Ensure trivalent O ([*:1]=[O;X2;v3;+0:2]-[#6:3]) is charged\n",
    "        Ensure trivalent S ([O:1]=[S;D2;+0:2]-[#6:3]) is charged\n",
    "        Ensure halogen with no neighbors ([F,Cl,Br,I;X0;+0:1]) is charged\n",
    "    -The molecule is neutralized, if possible. See the page on neutralization rules for more details.\n",
    "    -Remove stereo from tartrate to simplify salt matching\n",
    "    -Normalise (straighten) triple bonds and allenes\n",
    "    \n",
    "    https://github.com/chembl/ChEMBL_Structure_Pipeline\n",
    "\"\"\"\n",
    "\n",
    "rdMol = [Chem.MolFromSmiles(smile, sanitize=True) for smile in df4['SMILES_no_salts']]\n",
    "\n",
    "molBlock = [Chem.MolToMolBlock(mol) for mol in rdMol]\n",
    "\n",
    "stdMolBlock = [standardizer.standardize_molblock(mol_block) for mol_block in molBlock]\n",
    "\n",
    "molFromMolBlock = [Chem.MolFromMolBlock(std_molblock) for std_molblock in stdMolBlock]\n",
    "\n",
    "mol2smiles = [Chem.MolToSmiles(m) for m in molFromMolBlock]\n",
    "\n",
    "df4['Stand_smiles'] = mol2smiles"
   ]
  },
  {
   "cell_type": "markdown",
   "id": "6827cf52",
   "metadata": {},
   "source": [
    "**Remove Salts for the second time**"
   ]
  },
  {
   "cell_type": "code",
   "execution_count": null,
   "id": "3d516129",
   "metadata": {},
   "outputs": [],
   "source": [
    "#remove salts second time\n",
    "wrongSmiles = []\n",
    "new_smiles = []\n",
    "indexDropList_salts = []\n",
    "for index, smile in enumerate(df4['Stand_smiles']):\n",
    "    try:\n",
    "        mol = Chem.MolFromSmiles(smile)\n",
    "        remov = salt_remover(mol)\n",
    "        if remov.GetNumAtoms() <= 2:\n",
    "            indexDropList_salts.append(index)\n",
    "        else:\n",
    "            new_smiles.append(Chem.MolToSmiles(remov, kekuleSmiles=False))\n",
    "        \n",
    "    except:\n",
    "        wrongSmiles.append(df4.iloc[[index]])\n",
    "        indexDropList_salts.append(index)\n",
    "\n",
    "\n",
    "if len(wrongSmiles) == 0:\n",
    "    print(\"no wrong smiles found\")\n",
    "    \n",
    "else:\n",
    "    #drop wrong smiles\n",
    "    df4 = df4.drop(df4.index[indexDropList_salts])\n",
    "    \n",
    "    print(f\"{len(indexDropList_salts)} wrong smiles found\")\n",
    "    \n",
    "    #save removes mixtures\n",
    "    wrongsmiles = pd.concat(wrongSmiles)\n",
    "    wrongsmiles.to_csv(f'{savepath}\\\\wrongsmiles_after_std_2.csv', sep=',', header=True, index=False)\n",
    "df4['secondSaltRemoved_smiles'] = new_smiles\n",
    "df4 "
   ]
  },
  {
   "cell_type": "markdown",
   "id": "4721e24e",
   "metadata": {},
   "source": [
    "**remove radicals and standalone salts**"
   ]
  },
  {
   "cell_type": "code",
   "execution_count": null,
   "id": "8806d7ca",
   "metadata": {},
   "outputs": [],
   "source": [
    "#remove radicals and standalone salts\n",
    "mols_noradical = []\n",
    "standAlone_salts = []\n",
    "indexDropList_salts = []\n",
    "for index, smile in enumerate(df4['secondSaltRemoved_smiles']):\n",
    "    try:\n",
    "        m = Chem.MolFromSmiles(smile, False)\n",
    "        m = rd_inchi.MolToInchi(m)\n",
    "        m = Chem.MolFromInchi(m)\n",
    "        neutralizeRadicals(m)\n",
    "        Chem.SanitizeMol(m)\n",
    "        mols_noradical.append(Chem.MolToSmiles(m, False))\n",
    "    except:\n",
    "        indexDropList_salts.append(index)\n",
    "        standAlone_salts.append(df4.iloc[[index]])\n",
    "if len(standAlone_salts) == 0:\n",
    "    print(\"No salts found\")\n",
    "else:\n",
    "    df4 = df4.drop(df4.index[indexDropList_salts])\n",
    "    salts = pd.concat(standAlone_salts)\n",
    "    salts.to_csv(f'{savepath}\\\\removed_salts.csv', sep=',', header=True, index=False)\n",
    "df4['removed_radicals_smile'] = mols_noradical"
   ]
  },
  {
   "cell_type": "code",
   "execution_count": null,
   "id": "2201f12d",
   "metadata": {},
   "outputs": [],
   "source": [
    "#remove salts second time\n",
    "\n",
    "new_smiles = []\n",
    "indexDropList_salts = []\n",
    "for index, smile in enumerate(df4['removed_radicals_smile']):\n",
    "    try:\n",
    "        mol = Chem.MolFromSmiles(smile)\n",
    "        remov = salt_remover(mol)\n",
    "        if remov.GetNumAtoms() <= 2:\n",
    "            indexDropList_salts.append(index)\n",
    "        else:\n",
    "            new_smiles.append(Chem.MolToSmiles(remov, kekuleSmiles=False))\n",
    "        \n",
    "    except:\n",
    "        wrongSmiles.append(df4.iloc[[index]])\n",
    "        indexDropList_salts.append(index)\n",
    "\n",
    "\n",
    "if len(indexDropList_salts) == 0:\n",
    "    print(\"no wrong smiles found\")\n",
    "    \n",
    "else:\n",
    "    #drop wrong smiles\n",
    "    df4 = df4.drop(df4.index[indexDropList_salts])\n",
    "    \n",
    "    print(f\"{len(indexDropList_salts)} wrong smiles found\")\n",
    "    \n",
    "    #save removes mixtures\n",
    "    indexDropList_salts = pd.concat(indexDropList_salts)\n",
    "    indexDropList_salts.to_csv(f'{savepath}\\\\wrongsmiles_after_std_3.csv', sep=',', header=True, index=False)\n",
    "df4['thirdSaltRemoved_smiles'] = new_smiles\n",
    "df4 "
   ]
  },
  {
   "cell_type": "markdown",
   "id": "f29a3d03",
   "metadata": {},
   "source": [
    "**Remove mixtures for the second time**"
   ]
  },
  {
   "cell_type": "code",
   "execution_count": null,
   "id": "b8d6f37d",
   "metadata": {},
   "outputs": [],
   "source": [
    "#remove mixtures\n",
    "mixtureList = []\n",
    "indexDropList_mix = []\n",
    "for index, smile in enumerate (df4['thirdSaltRemoved_smiles']):\n",
    "    for char in smile:\n",
    "        if char == '.':\n",
    "            mixtureList.append(df4.iloc[[index]])\n",
    "            indexDropList_mix.append(index)\n",
    "            break\n",
    "\n",
    "            \n",
    "if len(indexDropList_mix) == 0:\n",
    "    print(\"no mixtures found\")\n",
    "    \n",
    "else:\n",
    "    #drop mixtures\n",
    "    df4 = df4.drop(df4.index[indexDropList_mix])\n",
    "    \n",
    "    print(f\"{len(indexDropList_mix)} mixtures found\")\n",
    "    \n",
    "    #save removes mixtures\n",
    "    mixtures = pd.concat(mixtureList)\n",
    "    mixtures.to_csv(f'{savepath}\\\\mixtures_after_2.csv', sep=',', header=True, index=False)\n",
    "df4 "
   ]
  },
  {
   "cell_type": "code",
   "execution_count": null,
   "id": "b518a718",
   "metadata": {},
   "outputs": [],
   "source": [
    "#second std\n",
    "\"\"\"\n",
    "    -Standardize unknown stereochemistry (Handled by the RDKit Mol file parser)\n",
    "        Fix wiggly bonds on sp3 carbons - sets atoms and bonds marked as unknown stereo to no stereo\n",
    "        Fix wiggly bonds on double bonds – set double bond to crossed bond\n",
    "    -Clears S Group data from the mol file\n",
    "    -Kekulize the structure\n",
    "    -Remove H atoms (See the page on explicit Hs for more details)\n",
    "    -Normalization:\n",
    "        Fix hypervalent nitro groups\n",
    "        Fix KO to K+ O- and NaO to Na+ O- (Also add Li+ to this)\n",
    "        Correct amides with N=COH\n",
    "        Standardise sulphoxides to charge separated form\n",
    "        Standardize diazonium N (atom :2 here: [*:1]-[N;X2:2]#[N;X1:3]>>[*:1]) to N+\n",
    "        Ensure quaternary N is charged\n",
    "        Ensure trivalent O ([*:1]=[O;X2;v3;+0:2]-[#6:3]) is charged\n",
    "        Ensure trivalent S ([O:1]=[S;D2;+0:2]-[#6:3]) is charged\n",
    "        Ensure halogen with no neighbors ([F,Cl,Br,I;X0;+0:1]) is charged\n",
    "    -The molecule is neutralized, if possible. See the page on neutralization rules for more details.\n",
    "    -Remove stereo from tartrate to simplify salt matching\n",
    "    -Normalise (straighten) triple bonds and allenes\n",
    "    \n",
    "    https://github.com/chembl/ChEMBL_Structure_Pipeline\n",
    "\"\"\"\n",
    "\n",
    "rdMol = [Chem.MolFromSmiles(smile, sanitize=True) for smile in df4['thirdSaltRemoved_smiles']]\n",
    "\n",
    "molBlock = [Chem.MolToMolBlock(mol) for mol in rdMol]\n",
    "\n",
    "stdMolBlock = [standardizer.standardize_molblock(mol_block) for mol_block in molBlock]\n",
    "\n",
    "molFromMolBlock = [Chem.MolFromMolBlock(std_molblock) for std_molblock in stdMolBlock]\n",
    "\n",
    "mol2smiles = [Chem.MolToSmiles(m) for m in molFromMolBlock]\n",
    "\n",
    "df4['Stand_smiles_final'] = mol2smiles"
   ]
  }
 ],
 "metadata": {
  "kernelspec": {
   "display_name": "Python 3.10.7 64-bit (microsoft store)",
   "language": "python",
   "name": "python3"
  },
  "language_info": {
   "codemirror_mode": {
    "name": "ipython",
    "version": 3
   },
   "file_extension": ".py",
   "mimetype": "text/x-python",
   "name": "python",
   "nbconvert_exporter": "python",
   "pygments_lexer": "ipython3",
   "version": "3.10.7"
  },
  "vscode": {
   "interpreter": {
    "hash": "f0b86550ea44597804204a48b6097d9d9fddb827366e03432e7a68bfbd6f6c1c"
   }
  }
 },
 "nbformat": 4,
 "nbformat_minor": 5
}
