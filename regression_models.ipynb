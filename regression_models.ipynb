{
 "cells": [
  {
   "cell_type": "code",
   "execution_count": 10,
   "metadata": {},
   "outputs": [],
   "source": [
    "# Importing packages \n",
    "import rdkit\n",
    "from rdkit import Chem, DataStructs\n",
    "from rdkit import Chem\n",
    "from rdkit.Chem import AllChem, Descriptors\n",
    "from rdkit.Chem import PandasTools\n",
    "from rdkit.Chem import MACCSkeys\n",
    "\n",
    "\n",
    "import numpy as np\n",
    "from numpy import sqrt\n",
    "from numpy import argmax\n",
    "\n",
    "import matplotlib.pyplot as plt\n",
    "import seaborn as sns\n",
    "\n",
    "import pandas as pd\n",
    "from pandas import DataFrame\n",
    "\n",
    "import lightgbm as lgb\n",
    "\n",
    "from sklearn.model_selection import cross_validate\n",
    "from sklearn.model_selection import KFold, cross_val_score\n",
    "from sklearn.svm import SVR\n",
    "from sklearn.svm import SVC\n",
    "from sklearn.ensemble import RandomForestRegressor\n",
    "from sklearn.ensemble import GradientBoostingRegressor\n",
    "from sklearn.model_selection import train_test_split, StratifiedKFold, GridSearchCV\n",
    "from sklearn.preprocessing import StandardScaler\n",
    "from sklearn import metrics\n",
    "from sklearn.metrics import accuracy_score, cohen_kappa_score, matthews_corrcoef, roc_curve, precision_recall_curve, roc_auc_score, make_scorer\n",
    "from sklearn.metrics import f1_score, balanced_accuracy_score, precision_score, recall_score, confusion_matrix\n",
    "from sklearn.metrics import auc as mauc\n",
    "import joblib\n",
    "from sklearn.model_selection import cross_val_score\n",
    "from sklearn.datasets import load_digits\n",
    "from sklearn.calibration import calibration_curve, CalibratedClassifierCV\n",
    "from sklearn.decomposition import PCA\n",
    "from sklearn.datasets import make_classification\n",
    "from sklearn.linear_model import LogisticRegression\n",
    "from sklearn.metrics import precision_recall_curve\n",
    "from sklearn.model_selection import cross_val_predict\n",
    "\n",
    "from imblearn.metrics import geometric_mean_score\n",
    "\n",
    "from skopt import BayesSearchCV"
   ]
  },
  {
   "cell_type": "code",
   "execution_count": 18,
   "metadata": {},
   "outputs": [],
   "source": [
    "#defining functions:\n",
    "\n",
    "def getNeighborsDitance(trainingSet, testInstance, k):\n",
    "    neighbors_k=metrics.pairwise.pairwise_distances(trainingSet, Y=testInstance, metric='dice', n_jobs=1)\n",
    "    neighbors_k.sort(0)\n",
    "    similarity= 1-neighbors_k\n",
    "    return similarity[k-1,:]\n",
    "\n",
    "#5-fold-cross-val\n",
    "def cros_val(x,y,classifier):\n",
    "    probs_classes = []\n",
    "    #indexes = []\n",
    "    y_test_all = []\n",
    "    AD_fold =[]\n",
    "    distance_train_set =[]\n",
    "    distance_test_set = []\n",
    "    y_pred_ad=[]\n",
    "    y_exp_ad =[]\n",
    "\n",
    "    for train_index, test_index in kf.split(x, y):\n",
    "        clf = classifier # model with best parameters\n",
    "        X_train_folds = x[train_index] # descritors train split\n",
    "        y_train_folds = np.array(y)[train_index.astype(int)] # label train split\n",
    "        X_test_fold = x[test_index] # descritors test split\n",
    "        y_test_fold = np.array(y)[test_index.astype(int)] # label test split\n",
    "\n",
    "\n",
    "        clf.fit(X_train_folds, y_train_folds) # train fold\n",
    "        y_pred = clf.predict_proba(X_test_fold) # test fold\n",
    "        probs_classes.append(y_pred) # all predictions for test folds\n",
    "        y_test_all.append(y_test_fold) # all folds' labels \n",
    "        #   indexes.append(test_index) # all tests indexes\n",
    "\n",
    "        # DA\n",
    "        k= int(round(pow((len(y)) ,1.0/3), 0))\n",
    "        distance_train = getNeighborsDitance(X_train_folds, X_train_folds, k)\n",
    "        distance_train_set.append(distance_train)\n",
    "        distance_test = getNeighborsDitance(X_train_folds, X_test_fold, k)\n",
    "        distance_test_set.append(distance_test)\n",
    "        #Dc = np.average(distance_train_set)-(1*np.std(distance_train_set))\n",
    "        Dc=0.5\n",
    "        for i in range(len(X_test_fold)):\n",
    "            ad=0\n",
    "            if distance_test_set[0][i] >= Dc:\n",
    "                ad = 1\n",
    "            AD_fold.append(ad)\n",
    "\n",
    "\n",
    "    # Get predictions of each fold\n",
    "    fold_1_pred = (probs_classes[0][:, 1] > 0.5).astype(int)\n",
    "    fold_2_pred = (probs_classes[1][:, 1] > 0.5).astype(int)\n",
    "    fold_3_pred = (probs_classes[2][:, 1] > 0.5).astype(int)\n",
    "    fold_4_pred = (probs_classes[3][:, 1] > 0.5).astype(int)\n",
    "    fold_5_pred = (probs_classes[4][:, 1] > 0.5).astype(int)\n",
    "\n",
    "    # Get experimental values of each fold\n",
    "    fold_1_exp = y_test_all[0]\n",
    "    fold_2_exp = y_test_all[1]\n",
    "    fold_3_exp = y_test_all[2]\n",
    "    fold_4_exp = y_test_all[3]\n",
    "    fold_5_exp = y_test_all[4]\n",
    "\n",
    "    bacc1 = metrics.balanced_accuracy_score(fold_1_exp, fold_1_pred) # balanced accuracy fold 1\n",
    "    bacc2 = metrics.balanced_accuracy_score(fold_2_exp, fold_2_pred) # balanced accuracy fold 2\n",
    "    bacc3 = metrics.balanced_accuracy_score(fold_3_exp, fold_3_pred) # balanced accuracy fold 3\n",
    "    bacc4 = metrics.balanced_accuracy_score(fold_4_exp, fold_4_pred) # balanced accuracy fold 4\n",
    "    bacc5 = metrics.balanced_accuracy_score(fold_5_exp, fold_5_pred) # balanced accuracy fold 5\n",
    "    print(\"Balanced accuracy (fold 1) = \", bacc1)\n",
    "    print(\"Balanced accuracy (fold 2) = \", bacc2)\n",
    "    print(\"Balanced accuracy (fold 3) = \", bacc3)\n",
    "    print(\"Balanced accuracy (fold 4) = \", bacc4)\n",
    "    print(\"Balanced accuracy (fold 5) = \", bacc5)\n",
    "\n",
    "    probs_classes = np.concatenate(probs_classes)    \n",
    "    y_experimental = np.concatenate(y_test_all)\n",
    "    # Uncalibrated model predictions\n",
    "    pred = (probs_classes[:, 1] > 0.5).astype(int)\n",
    "    for i in range(len(AD_fold)):\n",
    "        if AD_fold[i] == 1:\n",
    "            y_pred_ad.append(pred[i])\n",
    "            y_exp_ad.append(y_experimental[i])\n",
    "    \n",
    "            \n",
    "    \n",
    "    return(pred, y_experimental, probs_classes, AD_fold, y_pred_ad, y_exp_ad)\n",
    "\n",
    "#CALIBRATION\n",
    "def calibration_curve_plot(probs_classes, y_exp):\n",
    "    # keep probabilities for the positive outcome only\n",
    "    probs = probs_classes[:, 1]\n",
    "    # reliability diagram\n",
    "    fop, mpv = calibration_curve(y_exp, probs, n_bins=10)\n",
    "    # plot perfectly calibrated\n",
    "    plt.plot([0, 1], [0, 1], linestyle='--')\n",
    "    # plot model reliability\n",
    "    plt.plot(mpv, fop, marker='.')\n",
    "    plt.show()\n",
    "\n",
    "def calibration_threshold_roc(probs_classes, y_exp):\n",
    "    # keep probabilities for the positive outcome only\n",
    "    yhat = probs_classes[:, 1]\n",
    "    # calculate roc curves\n",
    "    fpr, tpr, thresholds = roc_curve(y_exp, yhat)\n",
    "    # calculate the g-mean for each threshold\n",
    "    gmeans = sqrt(tpr * (1-fpr))\n",
    "    # locate the index of the largest g-mean\n",
    "    ix = argmax(gmeans)\n",
    "    print('Best Threshold=%f, G-Mean=%.3f' % (thresholds[ix], gmeans[ix]))\n",
    "    # plot the roc curve for the model\n",
    "    plt.plot([0,1], [0,1], linestyle='--', label='No Skill')\n",
    "    plt.plot(fpr, tpr, marker='.', label='RF')\n",
    "    plt.scatter(fpr[ix], tpr[ix], marker='o', color='black', label='Best')\n",
    "    # axis labels\n",
    "    plt.xlabel('False Positive Rate')\n",
    "    plt.ylabel('True Positive Rate')\n",
    "    plt.legend()\n",
    "    # show the plot\n",
    "    plt.show()\n",
    "    threshold_roc = thresholds[ix]\n",
    "    return(threshold_roc)\n",
    "\n",
    "def calibration_threshold_prc(probs_classes, y_exp):\n",
    "    # keep probabilities for the positive outcome only\n",
    "    yhat = probs_classes[:, 1]\n",
    "    # calculate precision_recall_curve\n",
    "    precision, recall, thresholds = precision_recall_curve(y_exp, yhat)\n",
    "    # convert to f score\n",
    "    fscore = (2 * precision * recall) / (precision + recall)\n",
    "    # locate the index of the largest f score\n",
    "    ix = argmax(fscore)\n",
    "    print('Best Threshold=%f, F-Score=%.3f' % (thresholds[ix], fscore[ix]))\n",
    "    threshold_prc = thresholds[ix]\n",
    "    return(threshold_prc)\n",
    "\n",
    "#STATISTICS\n",
    "def calc_statistics(y,pred):\n",
    "    # save confusion matrix and slice into four pieces\n",
    "    confusion = confusion_matrix(y, pred)\n",
    "    #[row, column]\n",
    "    TP = confusion[1, 1]\n",
    "    TN = confusion[0, 0]\n",
    "    FP = confusion[0, 1]\n",
    "    FN = confusion[1, 0]\n",
    "    \n",
    "    # Plot confusion\n",
    "    #plt.figure(figsize=(5,5))\n",
    "    #sns.heatmap(confusion, annot=True, fmt=\".0f\", linewidths=.5, square = True, cmap = 'Blues_r');\n",
    "    #plt.ylabel('Actual label');\n",
    "    #plt.xlabel('Predicted label');\n",
    "    #title = \"Confusion matrix\"\n",
    "    #plt.title(title, size = 15);\n",
    "    \n",
    "    # calc statistics\n",
    "    classification_error = 1 - accuracy_score(y, pred) #Classification error or misclassification rate\n",
    "    accuracy = accuracy_score(y, pred) #accuracy\n",
    "    mcc = matthews_corrcoef(y, pred) #mcc\n",
    "    kappa = cohen_kappa_score(y, pred) #kappa\n",
    "    sensitivity = recall_score(y, pred) #Sensitivity\n",
    "    specificity = TN / (TN + FP) #Specificity\n",
    "    false_positive_rate = FP / float(TN + FP) #False positive rate (alfa)\n",
    "    false_negative_rate = FN / float(TP+FN) #False negative rate (beta)\n",
    "    precision = TP / float(TP + FP) #Precision\n",
    "    positive_pred_value = TP / float(TP + FP) #PPV\n",
    "    negative_pred_value = TN / float(TN + FN) #NPV\n",
    "    auc = roc_auc_score(y, pred) #AUC\n",
    "    bacc = balanced_accuracy_score(y, pred) # balanced accuracy\n",
    "    f1 = f1_score(y, pred) # F1-score\n",
    "\n",
    "    print(\"Accuracy = \", accuracy)\n",
    "    print(\"MCC = \", mcc)\n",
    "    print(\"Kappa = \", kappa)\n",
    "    print(\"Sensitivity = \", sensitivity)\n",
    "    print(\"Specificity = \", specificity)\n",
    "    print(\"Precision = \", precision)\n",
    "    print(\"PPV = \", positive_pred_value)\n",
    "    print(\"NPV = \", negative_pred_value)\n",
    "    print(\"False positive rate = \", false_positive_rate)\n",
    "    print(\"False negative rate = \", false_negative_rate)\n",
    "    print(\"AUC = \",roc_auc_score(y, pred))\n",
    "    print(\"Classification error = \", classification_error)\n",
    "    print(\"Balanced accuracy = \", bacc)\n",
    "    print(\"F1-score = \", f1)\n",
    "    \n",
    "    #converting calculated metrics into a pandas dataframe to compare all models at the final\n",
    "    statistics = pd.DataFrame({'Bal-acc': bacc, \"Sensitivity\": sensitivity, \"Specificity\": specificity,\"PPV\": positive_pred_value, \n",
    "           \"NPV\": negative_pred_value, 'Kappa': kappa, 'AUC': auc, 'MCC': mcc, 'Accuracy': accuracy, \n",
    "           \"Classification error\": classification_error,\"False positive rate\": false_positive_rate, \n",
    "           \"False negative rate\": false_negative_rate, \"Precision\": precision, 'F1-score': f1,}, index=[0])\n",
    "    return(statistics)"
   ]
  },
  {
   "cell_type": "code",
   "execution_count": 5,
   "metadata": {},
   "outputs": [],
   "source": [
    "# Reading molecules and activity (0 and 1) from SDF\n",
    "fname = r\"D:\\\\hergproject_new\\\\postcurationscript_data\\\\CB_CHO_IC50.csv\"\n",
    "data = pd.read_csv(fname)\n",
    "data = data[0:500]\n",
    "mols = [Chem.MolFromSmiles(smile) for smile in data['SMILES']]"
   ]
  },
  {
   "cell_type": "code",
   "execution_count": 6,
   "metadata": {},
   "outputs": [],
   "source": [
    "# generate binary maccs fingerprint\n",
    "fp = [MACCSkeys.GenMACCSKeys(x) for x in mols]\n",
    "\n",
    "def rdkit_numpy_convert(fp):\n",
    "    output = []\n",
    "    for f in fp:\n",
    "        arr = np.zeros((1,))\n",
    "        DataStructs.ConvertToNumpyArray(f, arr)\n",
    "        output.append(arr)\n",
    "    return np.asarray(output)\n",
    "\n",
    "x = rdkit_numpy_convert(fp)\n",
    "y = [num for num in data['pIC50 (uM)']]"
   ]
  },
  {
   "cell_type": "code",
   "execution_count": 7,
   "metadata": {},
   "outputs": [],
   "source": [
    "#randomly select 20% of compounds as external set\n",
    "x, x_ext, y, y_ext = train_test_split(x, y, test_size=0.20, random_state=42)"
   ]
  },
  {
   "cell_type": "code",
   "execution_count": 8,
   "metadata": {},
   "outputs": [
    {
     "name": "stdout",
     "output_type": "stream",
     "text": [
      "Number of compounds and descriptors in training set: (400, 167)\n",
      "Number of compounds and target variables in training set: (400, 1)\n"
     ]
    }
   ],
   "source": [
    "x_check = pd.DataFrame(x)\n",
    "y_check = pd.DataFrame(y)\n",
    "print(\"Number of compounds and descriptors in training set:\", x_check.shape)\n",
    "print(\"Number of compounds and target variables in training set:\", y_check.shape)"
   ]
  },
  {
   "cell_type": "code",
   "execution_count": 9,
   "metadata": {},
   "outputs": [
    {
     "name": "stdout",
     "output_type": "stream",
     "text": [
      "Number of compounds and descriptors in external set: (100, 167)\n",
      "Number of compounds and target variables in external set: (100, 1)\n"
     ]
    }
   ],
   "source": [
    "x_ext_check = pd.DataFrame(x_ext)\n",
    "y_ext_check = pd.DataFrame(y_ext)\n",
    "\n",
    "print(\"Number of compounds and descriptors in external set:\", x_ext_check.shape)\n",
    "print(\"Number of compounds and target variables in external set:\", y_ext_check.shape)"
   ]
  },
  {
   "cell_type": "code",
   "execution_count": 11,
   "metadata": {},
   "outputs": [],
   "source": [
    "kf = KFold(n_splits = 5, shuffle = True, random_state = 42)"
   ]
  },
  {
   "cell_type": "markdown",
   "metadata": {},
   "source": [
    "## LGBM REGRESSOR"
   ]
  },
  {
   "cell_type": "code",
   "execution_count": 12,
   "metadata": {},
   "outputs": [],
   "source": [
    "lgbr = lgb.LGBMRegressor(objective = \"regression\", n_jobs = -1, random_state = 42, learning_rate = 0.1, n_estimators = 200)"
   ]
  },
  {
   "cell_type": "code",
   "execution_count": 13,
   "metadata": {},
   "outputs": [
    {
     "data": {
      "text/html": [
       "<style>#sk-container-id-1 {color: black;background-color: white;}#sk-container-id-1 pre{padding: 0;}#sk-container-id-1 div.sk-toggleable {background-color: white;}#sk-container-id-1 label.sk-toggleable__label {cursor: pointer;display: block;width: 100%;margin-bottom: 0;padding: 0.3em;box-sizing: border-box;text-align: center;}#sk-container-id-1 label.sk-toggleable__label-arrow:before {content: \"▸\";float: left;margin-right: 0.25em;color: #696969;}#sk-container-id-1 label.sk-toggleable__label-arrow:hover:before {color: black;}#sk-container-id-1 div.sk-estimator:hover label.sk-toggleable__label-arrow:before {color: black;}#sk-container-id-1 div.sk-toggleable__content {max-height: 0;max-width: 0;overflow: hidden;text-align: left;background-color: #f0f8ff;}#sk-container-id-1 div.sk-toggleable__content pre {margin: 0.2em;color: black;border-radius: 0.25em;background-color: #f0f8ff;}#sk-container-id-1 input.sk-toggleable__control:checked~div.sk-toggleable__content {max-height: 200px;max-width: 100%;overflow: auto;}#sk-container-id-1 input.sk-toggleable__control:checked~label.sk-toggleable__label-arrow:before {content: \"▾\";}#sk-container-id-1 div.sk-estimator input.sk-toggleable__control:checked~label.sk-toggleable__label {background-color: #d4ebff;}#sk-container-id-1 div.sk-label input.sk-toggleable__control:checked~label.sk-toggleable__label {background-color: #d4ebff;}#sk-container-id-1 input.sk-hidden--visually {border: 0;clip: rect(1px 1px 1px 1px);clip: rect(1px, 1px, 1px, 1px);height: 1px;margin: -1px;overflow: hidden;padding: 0;position: absolute;width: 1px;}#sk-container-id-1 div.sk-estimator {font-family: monospace;background-color: #f0f8ff;border: 1px dotted black;border-radius: 0.25em;box-sizing: border-box;margin-bottom: 0.5em;}#sk-container-id-1 div.sk-estimator:hover {background-color: #d4ebff;}#sk-container-id-1 div.sk-parallel-item::after {content: \"\";width: 100%;border-bottom: 1px solid gray;flex-grow: 1;}#sk-container-id-1 div.sk-label:hover label.sk-toggleable__label {background-color: #d4ebff;}#sk-container-id-1 div.sk-serial::before {content: \"\";position: absolute;border-left: 1px solid gray;box-sizing: border-box;top: 0;bottom: 0;left: 50%;z-index: 0;}#sk-container-id-1 div.sk-serial {display: flex;flex-direction: column;align-items: center;background-color: white;padding-right: 0.2em;padding-left: 0.2em;position: relative;}#sk-container-id-1 div.sk-item {position: relative;z-index: 1;}#sk-container-id-1 div.sk-parallel {display: flex;align-items: stretch;justify-content: center;background-color: white;position: relative;}#sk-container-id-1 div.sk-item::before, #sk-container-id-1 div.sk-parallel-item::before {content: \"\";position: absolute;border-left: 1px solid gray;box-sizing: border-box;top: 0;bottom: 0;left: 50%;z-index: -1;}#sk-container-id-1 div.sk-parallel-item {display: flex;flex-direction: column;z-index: 1;position: relative;background-color: white;}#sk-container-id-1 div.sk-parallel-item:first-child::after {align-self: flex-end;width: 50%;}#sk-container-id-1 div.sk-parallel-item:last-child::after {align-self: flex-start;width: 50%;}#sk-container-id-1 div.sk-parallel-item:only-child::after {width: 0;}#sk-container-id-1 div.sk-dashed-wrapped {border: 1px dashed gray;margin: 0 0.4em 0.5em 0.4em;box-sizing: border-box;padding-bottom: 0.4em;background-color: white;}#sk-container-id-1 div.sk-label label {font-family: monospace;font-weight: bold;display: inline-block;line-height: 1.2em;}#sk-container-id-1 div.sk-label-container {text-align: center;}#sk-container-id-1 div.sk-container {/* jupyter's `normalize.less` sets `[hidden] { display: none; }` but bootstrap.min.css set `[hidden] { display: none !important; }` so we also need the `!important` here to be able to override the default hidden behavior on the sphinx rendered scikit-learn.org. See: https://github.com/scikit-learn/scikit-learn/issues/21755 */display: inline-block !important;position: relative;}#sk-container-id-1 div.sk-text-repr-fallback {display: none;}</style><div id=\"sk-container-id-1\" class=\"sk-top-container\"><div class=\"sk-text-repr-fallback\"><pre>BayesSearchCV(cv=KFold(n_splits=5, random_state=42, shuffle=True),\n",
       "              estimator=LGBMRegressor(n_estimators=200, objective=&#x27;regression&#x27;,\n",
       "                                      random_state=42),\n",
       "              n_iter=150, n_jobs=-1, random_state=42,\n",
       "              scoring=&#x27;neg_root_mean_squared_error&#x27;,\n",
       "              search_spaces={&#x27;colsample_bytree&#x27;: [0.25, 1],\n",
       "                             &#x27;max_depth&#x27;: [3, 13], &#x27;min_child_samples&#x27;: [7, 75],\n",
       "                             &#x27;min_split_gain&#x27;: [0, 0.5],\n",
       "                             &#x27;num_leaves&#x27;: [20, 200], &#x27;reg_alpha&#x27;: [0, 1],\n",
       "                             &#x27;reg_lambda&#x27;: [0, 1], &#x27;subsample&#x27;: [0.25, 1],\n",
       "                             &#x27;subsample_freq&#x27;: [1, 50]})</pre><b>In a Jupyter environment, please rerun this cell to show the HTML representation or trust the notebook. <br />On GitHub, the HTML representation is unable to render, please try loading this page with nbviewer.org.</b></div><div class=\"sk-container\" hidden><div class=\"sk-item sk-dashed-wrapped\"><div class=\"sk-label-container\"><div class=\"sk-label sk-toggleable\"><input class=\"sk-toggleable__control sk-hidden--visually\" id=\"sk-estimator-id-1\" type=\"checkbox\" ><label for=\"sk-estimator-id-1\" class=\"sk-toggleable__label sk-toggleable__label-arrow\">BayesSearchCV</label><div class=\"sk-toggleable__content\"><pre>BayesSearchCV(cv=KFold(n_splits=5, random_state=42, shuffle=True),\n",
       "              estimator=LGBMRegressor(n_estimators=200, objective=&#x27;regression&#x27;,\n",
       "                                      random_state=42),\n",
       "              n_iter=150, n_jobs=-1, random_state=42,\n",
       "              scoring=&#x27;neg_root_mean_squared_error&#x27;,\n",
       "              search_spaces={&#x27;colsample_bytree&#x27;: [0.25, 1],\n",
       "                             &#x27;max_depth&#x27;: [3, 13], &#x27;min_child_samples&#x27;: [7, 75],\n",
       "                             &#x27;min_split_gain&#x27;: [0, 0.5],\n",
       "                             &#x27;num_leaves&#x27;: [20, 200], &#x27;reg_alpha&#x27;: [0, 1],\n",
       "                             &#x27;reg_lambda&#x27;: [0, 1], &#x27;subsample&#x27;: [0.25, 1],\n",
       "                             &#x27;subsample_freq&#x27;: [1, 50]})</pre></div></div></div><div class=\"sk-parallel\"><div class=\"sk-parallel-item\"><div class=\"sk-item\"><div class=\"sk-label-container\"><div class=\"sk-label sk-toggleable\"><input class=\"sk-toggleable__control sk-hidden--visually\" id=\"sk-estimator-id-2\" type=\"checkbox\" ><label for=\"sk-estimator-id-2\" class=\"sk-toggleable__label sk-toggleable__label-arrow\">estimator: LGBMRegressor</label><div class=\"sk-toggleable__content\"><pre>LGBMRegressor(n_estimators=200, objective=&#x27;regression&#x27;, random_state=42)</pre></div></div></div><div class=\"sk-serial\"><div class=\"sk-item\"><div class=\"sk-estimator sk-toggleable\"><input class=\"sk-toggleable__control sk-hidden--visually\" id=\"sk-estimator-id-3\" type=\"checkbox\" ><label for=\"sk-estimator-id-3\" class=\"sk-toggleable__label sk-toggleable__label-arrow\">LGBMRegressor</label><div class=\"sk-toggleable__content\"><pre>LGBMRegressor(n_estimators=200, objective=&#x27;regression&#x27;, random_state=42)</pre></div></div></div></div></div></div></div></div></div></div>"
      ],
      "text/plain": [
       "BayesSearchCV(cv=KFold(n_splits=5, random_state=42, shuffle=True),\n",
       "              estimator=LGBMRegressor(n_estimators=200, objective='regression',\n",
       "                                      random_state=42),\n",
       "              n_iter=150, n_jobs=-1, random_state=42,\n",
       "              scoring='neg_root_mean_squared_error',\n",
       "              search_spaces={'colsample_bytree': [0.25, 1],\n",
       "                             'max_depth': [3, 13], 'min_child_samples': [7, 75],\n",
       "                             'min_split_gain': [0, 0.5],\n",
       "                             'num_leaves': [20, 200], 'reg_alpha': [0, 1],\n",
       "                             'reg_lambda': [0, 1], 'subsample': [0.25, 1],\n",
       "                             'subsample_freq': [1, 50]})"
      ]
     },
     "execution_count": 13,
     "metadata": {},
     "output_type": "execute_result"
    }
   ],
   "source": [
    "opt_lgbr = BayesSearchCV(lgbr, \n",
    "                     {\n",
    "                        \"max_depth\": [3, 13],\n",
    "                        \"num_leaves\": [20, 200],\n",
    "                       \"min_child_samples\": [7, 75],\n",
    "                       \"colsample_bytree\": [0.25, 1],\n",
    "                       \"subsample\": [0.25, 1],\n",
    "                        \"subsample_freq\": [1, 50],\n",
    "                        \"reg_alpha\": [0, 1],\n",
    "                       \"reg_lambda\": [0, 1],\n",
    "                       \"min_split_gain\": [0, 0.5]\n",
    "                   },\n",
    "                   n_iter = 150,\n",
    "                   cv = kf,\n",
    "                  n_jobs = -1,\n",
    "                  scoring = \"neg_root_mean_squared_error\",\n",
    "                  random_state = 42\n",
    "                 )\n",
    "\n",
    "\n",
    "opt_lgbr.fit(x, y)"
   ]
  },
  {
   "cell_type": "code",
   "execution_count": 46,
   "metadata": {},
   "outputs": [],
   "source": [
    "scoring = ['max_error', 'neg_mean_absolute_error', 'neg_mean_squared_error', 'neg_root_mean_squared_error', 'r2']\n",
    "scores = cross_validate(opt, x, y, cv=5, scoring=scoring)"
   ]
  },
  {
   "cell_type": "code",
   "execution_count": null,
   "metadata": {},
   "outputs": [],
   "source": [
    "print(\"MAX ERROR %0.2f\" % (scores['test_max_error'].mean()*-1))\n",
    "print(\"MAE %0.2f\" % (scores['test_neg_mean_absolute_error'].mean()*-1))\n",
    "print(\"MSE %0.2f\" % (scores['test_neg_mean_squared_error'].mean()*-1))\n",
    "print(\"RMSE %0.2f\" % (scores['test_neg_root_mean_squared_error'].mean()*-1))\n",
    "print(\"R2 %0.2f\" % (scores['test_r2'].mean()))"
   ]
  },
  {
   "cell_type": "markdown",
   "metadata": {},
   "source": [
    "## RANDOM FOREST REGRESSOR"
   ]
  },
  {
   "cell_type": "code",
   "execution_count": 14,
   "metadata": {},
   "outputs": [
    {
     "name": "stderr",
     "output_type": "stream",
     "text": [
      "c:\\Users\\igorh\\anaconda3\\envs\\my-rdkit-env\\lib\\site-packages\\skopt\\optimizer\\optimizer.py:449: UserWarning: The objective has been evaluated at this point before.\n",
      "  warnings.warn(\"The objective has been evaluated \"\n",
      "c:\\Users\\igorh\\anaconda3\\envs\\my-rdkit-env\\lib\\site-packages\\skopt\\optimizer\\optimizer.py:449: UserWarning: The objective has been evaluated at this point before.\n",
      "  warnings.warn(\"The objective has been evaluated \"\n",
      "c:\\Users\\igorh\\anaconda3\\envs\\my-rdkit-env\\lib\\site-packages\\skopt\\optimizer\\optimizer.py:449: UserWarning: The objective has been evaluated at this point before.\n",
      "  warnings.warn(\"The objective has been evaluated \"\n",
      "c:\\Users\\igorh\\anaconda3\\envs\\my-rdkit-env\\lib\\site-packages\\sklearn\\ensemble\\_forest.py:416: FutureWarning: `max_features='auto'` has been deprecated in 1.1 and will be removed in 1.3. To keep the past behaviour, explicitly set `max_features=1.0` or remove this parameter as it is also the default value for RandomForestRegressors and ExtraTreesRegressors.\n",
      "  warn(\n"
     ]
    },
    {
     "data": {
      "text/html": [
       "<style>#sk-container-id-2 {color: black;background-color: white;}#sk-container-id-2 pre{padding: 0;}#sk-container-id-2 div.sk-toggleable {background-color: white;}#sk-container-id-2 label.sk-toggleable__label {cursor: pointer;display: block;width: 100%;margin-bottom: 0;padding: 0.3em;box-sizing: border-box;text-align: center;}#sk-container-id-2 label.sk-toggleable__label-arrow:before {content: \"▸\";float: left;margin-right: 0.25em;color: #696969;}#sk-container-id-2 label.sk-toggleable__label-arrow:hover:before {color: black;}#sk-container-id-2 div.sk-estimator:hover label.sk-toggleable__label-arrow:before {color: black;}#sk-container-id-2 div.sk-toggleable__content {max-height: 0;max-width: 0;overflow: hidden;text-align: left;background-color: #f0f8ff;}#sk-container-id-2 div.sk-toggleable__content pre {margin: 0.2em;color: black;border-radius: 0.25em;background-color: #f0f8ff;}#sk-container-id-2 input.sk-toggleable__control:checked~div.sk-toggleable__content {max-height: 200px;max-width: 100%;overflow: auto;}#sk-container-id-2 input.sk-toggleable__control:checked~label.sk-toggleable__label-arrow:before {content: \"▾\";}#sk-container-id-2 div.sk-estimator input.sk-toggleable__control:checked~label.sk-toggleable__label {background-color: #d4ebff;}#sk-container-id-2 div.sk-label input.sk-toggleable__control:checked~label.sk-toggleable__label {background-color: #d4ebff;}#sk-container-id-2 input.sk-hidden--visually {border: 0;clip: rect(1px 1px 1px 1px);clip: rect(1px, 1px, 1px, 1px);height: 1px;margin: -1px;overflow: hidden;padding: 0;position: absolute;width: 1px;}#sk-container-id-2 div.sk-estimator {font-family: monospace;background-color: #f0f8ff;border: 1px dotted black;border-radius: 0.25em;box-sizing: border-box;margin-bottom: 0.5em;}#sk-container-id-2 div.sk-estimator:hover {background-color: #d4ebff;}#sk-container-id-2 div.sk-parallel-item::after {content: \"\";width: 100%;border-bottom: 1px solid gray;flex-grow: 1;}#sk-container-id-2 div.sk-label:hover label.sk-toggleable__label {background-color: #d4ebff;}#sk-container-id-2 div.sk-serial::before {content: \"\";position: absolute;border-left: 1px solid gray;box-sizing: border-box;top: 0;bottom: 0;left: 50%;z-index: 0;}#sk-container-id-2 div.sk-serial {display: flex;flex-direction: column;align-items: center;background-color: white;padding-right: 0.2em;padding-left: 0.2em;position: relative;}#sk-container-id-2 div.sk-item {position: relative;z-index: 1;}#sk-container-id-2 div.sk-parallel {display: flex;align-items: stretch;justify-content: center;background-color: white;position: relative;}#sk-container-id-2 div.sk-item::before, #sk-container-id-2 div.sk-parallel-item::before {content: \"\";position: absolute;border-left: 1px solid gray;box-sizing: border-box;top: 0;bottom: 0;left: 50%;z-index: -1;}#sk-container-id-2 div.sk-parallel-item {display: flex;flex-direction: column;z-index: 1;position: relative;background-color: white;}#sk-container-id-2 div.sk-parallel-item:first-child::after {align-self: flex-end;width: 50%;}#sk-container-id-2 div.sk-parallel-item:last-child::after {align-self: flex-start;width: 50%;}#sk-container-id-2 div.sk-parallel-item:only-child::after {width: 0;}#sk-container-id-2 div.sk-dashed-wrapped {border: 1px dashed gray;margin: 0 0.4em 0.5em 0.4em;box-sizing: border-box;padding-bottom: 0.4em;background-color: white;}#sk-container-id-2 div.sk-label label {font-family: monospace;font-weight: bold;display: inline-block;line-height: 1.2em;}#sk-container-id-2 div.sk-label-container {text-align: center;}#sk-container-id-2 div.sk-container {/* jupyter's `normalize.less` sets `[hidden] { display: none; }` but bootstrap.min.css set `[hidden] { display: none !important; }` so we also need the `!important` here to be able to override the default hidden behavior on the sphinx rendered scikit-learn.org. See: https://github.com/scikit-learn/scikit-learn/issues/21755 */display: inline-block !important;position: relative;}#sk-container-id-2 div.sk-text-repr-fallback {display: none;}</style><div id=\"sk-container-id-2\" class=\"sk-top-container\"><div class=\"sk-text-repr-fallback\"><pre>BayesSearchCV(cv=KFold(n_splits=5, random_state=42, shuffle=True),\n",
       "              estimator=RandomForestRegressor(), n_iter=30, n_jobs=-1,\n",
       "              random_state=42, scoring=&#x27;neg_root_mean_squared_error&#x27;,\n",
       "              search_spaces={&#x27;max_depth&#x27;: [2, 100],\n",
       "                             &#x27;max_features&#x27;: [&#x27;auto&#x27;, &#x27;sqrt&#x27;],\n",
       "                             &#x27;min_samples_leaf&#x27;: [1, 20],\n",
       "                             &#x27;min_samples_split&#x27;: [2, 20],\n",
       "                             &#x27;n_estimators&#x27;: [100, 1000]})</pre><b>In a Jupyter environment, please rerun this cell to show the HTML representation or trust the notebook. <br />On GitHub, the HTML representation is unable to render, please try loading this page with nbviewer.org.</b></div><div class=\"sk-container\" hidden><div class=\"sk-item sk-dashed-wrapped\"><div class=\"sk-label-container\"><div class=\"sk-label sk-toggleable\"><input class=\"sk-toggleable__control sk-hidden--visually\" id=\"sk-estimator-id-4\" type=\"checkbox\" ><label for=\"sk-estimator-id-4\" class=\"sk-toggleable__label sk-toggleable__label-arrow\">BayesSearchCV</label><div class=\"sk-toggleable__content\"><pre>BayesSearchCV(cv=KFold(n_splits=5, random_state=42, shuffle=True),\n",
       "              estimator=RandomForestRegressor(), n_iter=30, n_jobs=-1,\n",
       "              random_state=42, scoring=&#x27;neg_root_mean_squared_error&#x27;,\n",
       "              search_spaces={&#x27;max_depth&#x27;: [2, 100],\n",
       "                             &#x27;max_features&#x27;: [&#x27;auto&#x27;, &#x27;sqrt&#x27;],\n",
       "                             &#x27;min_samples_leaf&#x27;: [1, 20],\n",
       "                             &#x27;min_samples_split&#x27;: [2, 20],\n",
       "                             &#x27;n_estimators&#x27;: [100, 1000]})</pre></div></div></div><div class=\"sk-parallel\"><div class=\"sk-parallel-item\"><div class=\"sk-item\"><div class=\"sk-label-container\"><div class=\"sk-label sk-toggleable\"><input class=\"sk-toggleable__control sk-hidden--visually\" id=\"sk-estimator-id-5\" type=\"checkbox\" ><label for=\"sk-estimator-id-5\" class=\"sk-toggleable__label sk-toggleable__label-arrow\">estimator: RandomForestRegressor</label><div class=\"sk-toggleable__content\"><pre>RandomForestRegressor()</pre></div></div></div><div class=\"sk-serial\"><div class=\"sk-item\"><div class=\"sk-estimator sk-toggleable\"><input class=\"sk-toggleable__control sk-hidden--visually\" id=\"sk-estimator-id-6\" type=\"checkbox\" ><label for=\"sk-estimator-id-6\" class=\"sk-toggleable__label sk-toggleable__label-arrow\">RandomForestRegressor</label><div class=\"sk-toggleable__content\"><pre>RandomForestRegressor()</pre></div></div></div></div></div></div></div></div></div></div>"
      ],
      "text/plain": [
       "BayesSearchCV(cv=KFold(n_splits=5, random_state=42, shuffle=True),\n",
       "              estimator=RandomForestRegressor(), n_iter=30, n_jobs=-1,\n",
       "              random_state=42, scoring='neg_root_mean_squared_error',\n",
       "              search_spaces={'max_depth': [2, 100],\n",
       "                             'max_features': ['auto', 'sqrt'],\n",
       "                             'min_samples_leaf': [1, 20],\n",
       "                             'min_samples_split': [2, 20],\n",
       "                             'n_estimators': [100, 1000]})"
      ]
     },
     "execution_count": 14,
     "metadata": {},
     "output_type": "execute_result"
    }
   ],
   "source": [
    "scorer = make_scorer(geometric_mean_score)\n",
    "\n",
    "# log-uniform: understand as search over p = exp(x) by varying x\n",
    "opt_rf = BayesSearchCV(\n",
    "    RandomForestRegressor(),\n",
    "    {'max_features': ['auto', 'sqrt'],\n",
    "    'n_estimators': [100, 1000],\n",
    "    \"max_depth\": [2, 100],\n",
    "    'min_samples_leaf': [1,20], \n",
    "    'min_samples_split': [2, 20]\n",
    "    },\n",
    "    n_iter=30, # Number of parameter settings that are sampled\n",
    "    cv=kf,\n",
    "    scoring = \"neg_root_mean_squared_error\",\n",
    "    verbose=0,\n",
    "    refit= True, # Refit the best estimator with the entire dataset.\n",
    "    random_state=42, \n",
    "    n_jobs = -1\n",
    ")\n",
    "\n",
    "opt_rf.fit(x, y)"
   ]
  },
  {
   "cell_type": "code",
   "execution_count": null,
   "metadata": {},
   "outputs": [],
   "source": [
    "scoring = ['max_error', 'neg_mean_absolute_error', 'neg_mean_squared_error', 'neg_root_mean_squared_error', 'r2']\n",
    "scores = cross_validate(opt_rf, x, y, cv=5, scoring=scoring)"
   ]
  },
  {
   "cell_type": "code",
   "execution_count": null,
   "metadata": {},
   "outputs": [],
   "source": [
    "print(\"MAX ERROR %0.2f\" % (scores['test_max_error'].mean()*-1))\n",
    "print(\"MAE %0.2f\" % (scores['test_neg_mean_absolute_error'].mean()*-1))\n",
    "print(\"MSE %0.2f\" % (scores['test_neg_mean_squared_error'].mean()*-1))\n",
    "print(\"RMSE %0.2f\" % (scores['test_neg_root_mean_squared_error'].mean()*-1))\n",
    "print(\"R2 %0.2f\" % (scores['test_r2'].mean()))"
   ]
  },
  {
   "cell_type": "markdown",
   "metadata": {},
   "source": [
    "## SUPPORT VECTOR REGRESSOR"
   ]
  },
  {
   "cell_type": "code",
   "execution_count": 15,
   "metadata": {},
   "outputs": [
    {
     "data": {
      "text/html": [
       "<style>#sk-container-id-3 {color: black;background-color: white;}#sk-container-id-3 pre{padding: 0;}#sk-container-id-3 div.sk-toggleable {background-color: white;}#sk-container-id-3 label.sk-toggleable__label {cursor: pointer;display: block;width: 100%;margin-bottom: 0;padding: 0.3em;box-sizing: border-box;text-align: center;}#sk-container-id-3 label.sk-toggleable__label-arrow:before {content: \"▸\";float: left;margin-right: 0.25em;color: #696969;}#sk-container-id-3 label.sk-toggleable__label-arrow:hover:before {color: black;}#sk-container-id-3 div.sk-estimator:hover label.sk-toggleable__label-arrow:before {color: black;}#sk-container-id-3 div.sk-toggleable__content {max-height: 0;max-width: 0;overflow: hidden;text-align: left;background-color: #f0f8ff;}#sk-container-id-3 div.sk-toggleable__content pre {margin: 0.2em;color: black;border-radius: 0.25em;background-color: #f0f8ff;}#sk-container-id-3 input.sk-toggleable__control:checked~div.sk-toggleable__content {max-height: 200px;max-width: 100%;overflow: auto;}#sk-container-id-3 input.sk-toggleable__control:checked~label.sk-toggleable__label-arrow:before {content: \"▾\";}#sk-container-id-3 div.sk-estimator input.sk-toggleable__control:checked~label.sk-toggleable__label {background-color: #d4ebff;}#sk-container-id-3 div.sk-label input.sk-toggleable__control:checked~label.sk-toggleable__label {background-color: #d4ebff;}#sk-container-id-3 input.sk-hidden--visually {border: 0;clip: rect(1px 1px 1px 1px);clip: rect(1px, 1px, 1px, 1px);height: 1px;margin: -1px;overflow: hidden;padding: 0;position: absolute;width: 1px;}#sk-container-id-3 div.sk-estimator {font-family: monospace;background-color: #f0f8ff;border: 1px dotted black;border-radius: 0.25em;box-sizing: border-box;margin-bottom: 0.5em;}#sk-container-id-3 div.sk-estimator:hover {background-color: #d4ebff;}#sk-container-id-3 div.sk-parallel-item::after {content: \"\";width: 100%;border-bottom: 1px solid gray;flex-grow: 1;}#sk-container-id-3 div.sk-label:hover label.sk-toggleable__label {background-color: #d4ebff;}#sk-container-id-3 div.sk-serial::before {content: \"\";position: absolute;border-left: 1px solid gray;box-sizing: border-box;top: 0;bottom: 0;left: 50%;z-index: 0;}#sk-container-id-3 div.sk-serial {display: flex;flex-direction: column;align-items: center;background-color: white;padding-right: 0.2em;padding-left: 0.2em;position: relative;}#sk-container-id-3 div.sk-item {position: relative;z-index: 1;}#sk-container-id-3 div.sk-parallel {display: flex;align-items: stretch;justify-content: center;background-color: white;position: relative;}#sk-container-id-3 div.sk-item::before, #sk-container-id-3 div.sk-parallel-item::before {content: \"\";position: absolute;border-left: 1px solid gray;box-sizing: border-box;top: 0;bottom: 0;left: 50%;z-index: -1;}#sk-container-id-3 div.sk-parallel-item {display: flex;flex-direction: column;z-index: 1;position: relative;background-color: white;}#sk-container-id-3 div.sk-parallel-item:first-child::after {align-self: flex-end;width: 50%;}#sk-container-id-3 div.sk-parallel-item:last-child::after {align-self: flex-start;width: 50%;}#sk-container-id-3 div.sk-parallel-item:only-child::after {width: 0;}#sk-container-id-3 div.sk-dashed-wrapped {border: 1px dashed gray;margin: 0 0.4em 0.5em 0.4em;box-sizing: border-box;padding-bottom: 0.4em;background-color: white;}#sk-container-id-3 div.sk-label label {font-family: monospace;font-weight: bold;display: inline-block;line-height: 1.2em;}#sk-container-id-3 div.sk-label-container {text-align: center;}#sk-container-id-3 div.sk-container {/* jupyter's `normalize.less` sets `[hidden] { display: none; }` but bootstrap.min.css set `[hidden] { display: none !important; }` so we also need the `!important` here to be able to override the default hidden behavior on the sphinx rendered scikit-learn.org. See: https://github.com/scikit-learn/scikit-learn/issues/21755 */display: inline-block !important;position: relative;}#sk-container-id-3 div.sk-text-repr-fallback {display: none;}</style><div id=\"sk-container-id-3\" class=\"sk-top-container\"><div class=\"sk-text-repr-fallback\"><pre>BayesSearchCV(cv=KFold(n_splits=5, random_state=42, shuffle=True),\n",
       "              estimator=SVR(), n_iter=30, n_jobs=-1, random_state=42,\n",
       "              scoring=&#x27;neg_root_mean_squared_error&#x27;,\n",
       "              search_spaces={&#x27;C&#x27;: (1e-06, 1000000.0, &#x27;log-uniform&#x27;),\n",
       "                             &#x27;gamma&#x27;: (1e-06, 10.0, &#x27;log-uniform&#x27;),\n",
       "                             &#x27;kernel&#x27;: [&#x27;rbf&#x27;]})</pre><b>In a Jupyter environment, please rerun this cell to show the HTML representation or trust the notebook. <br />On GitHub, the HTML representation is unable to render, please try loading this page with nbviewer.org.</b></div><div class=\"sk-container\" hidden><div class=\"sk-item sk-dashed-wrapped\"><div class=\"sk-label-container\"><div class=\"sk-label sk-toggleable\"><input class=\"sk-toggleable__control sk-hidden--visually\" id=\"sk-estimator-id-7\" type=\"checkbox\" ><label for=\"sk-estimator-id-7\" class=\"sk-toggleable__label sk-toggleable__label-arrow\">BayesSearchCV</label><div class=\"sk-toggleable__content\"><pre>BayesSearchCV(cv=KFold(n_splits=5, random_state=42, shuffle=True),\n",
       "              estimator=SVR(), n_iter=30, n_jobs=-1, random_state=42,\n",
       "              scoring=&#x27;neg_root_mean_squared_error&#x27;,\n",
       "              search_spaces={&#x27;C&#x27;: (1e-06, 1000000.0, &#x27;log-uniform&#x27;),\n",
       "                             &#x27;gamma&#x27;: (1e-06, 10.0, &#x27;log-uniform&#x27;),\n",
       "                             &#x27;kernel&#x27;: [&#x27;rbf&#x27;]})</pre></div></div></div><div class=\"sk-parallel\"><div class=\"sk-parallel-item\"><div class=\"sk-item\"><div class=\"sk-label-container\"><div class=\"sk-label sk-toggleable\"><input class=\"sk-toggleable__control sk-hidden--visually\" id=\"sk-estimator-id-8\" type=\"checkbox\" ><label for=\"sk-estimator-id-8\" class=\"sk-toggleable__label sk-toggleable__label-arrow\">estimator: SVR</label><div class=\"sk-toggleable__content\"><pre>SVR()</pre></div></div></div><div class=\"sk-serial\"><div class=\"sk-item\"><div class=\"sk-estimator sk-toggleable\"><input class=\"sk-toggleable__control sk-hidden--visually\" id=\"sk-estimator-id-9\" type=\"checkbox\" ><label for=\"sk-estimator-id-9\" class=\"sk-toggleable__label sk-toggleable__label-arrow\">SVR</label><div class=\"sk-toggleable__content\"><pre>SVR()</pre></div></div></div></div></div></div></div></div></div></div>"
      ],
      "text/plain": [
       "BayesSearchCV(cv=KFold(n_splits=5, random_state=42, shuffle=True),\n",
       "              estimator=SVR(), n_iter=30, n_jobs=-1, random_state=42,\n",
       "              scoring='neg_root_mean_squared_error',\n",
       "              search_spaces={'C': (1e-06, 1000000.0, 'log-uniform'),\n",
       "                             'gamma': (1e-06, 10.0, 'log-uniform'),\n",
       "                             'kernel': ['rbf']})"
      ]
     },
     "execution_count": 15,
     "metadata": {},
     "output_type": "execute_result"
    }
   ],
   "source": [
    "scorer = make_scorer(geometric_mean_score)\n",
    "\n",
    "# log-uniform: understand as search over p = exp(x) by varying x\n",
    "opt_svr = BayesSearchCV(\n",
    "    SVR(),\n",
    "    {\n",
    "        'C': (1e-6, 1e+6, 'log-uniform'),\n",
    "        'gamma': (1e-6, 1e+1, 'log-uniform'),\n",
    "        'kernel': ['rbf'],  # categorical parameter | ['linear', 'poly', 'rbf'] to test all kernels\n",
    "    },\n",
    "    n_iter=30, # Number of parameter settings that are sampled\n",
    "    cv=kf,\n",
    "    scoring = \"neg_root_mean_squared_error\",\n",
    "    refit = True, # Refit the best estimator with the entire dataset.\n",
    "    random_state=42,\n",
    "    n_jobs = -1\n",
    ")\n",
    "\n",
    "opt_svr.fit(x, y)"
   ]
  },
  {
   "cell_type": "code",
   "execution_count": 40,
   "metadata": {},
   "outputs": [],
   "source": [
    "scoring = ['max_error', 'neg_mean_absolute_error', 'neg_mean_squared_error', 'neg_root_mean_squared_error', 'r2']\n",
    "scores = cross_validate(opt_svm, x, y, cv=5, scoring=scoring)"
   ]
  },
  {
   "cell_type": "code",
   "execution_count": 45,
   "metadata": {},
   "outputs": [
    {
     "name": "stdout",
     "output_type": "stream",
     "text": [
      "MAX ERROR 2.90\n",
      "MAE 0.48\n",
      "MSE 0.53\n",
      "RMSE 0.72\n",
      "R2 0.40\n"
     ]
    }
   ],
   "source": [
    "print(\"MAX ERROR %0.2f\" % (scores['test_max_error'].mean()*-1))\n",
    "print(\"MAE %0.2f\" % (scores['test_neg_mean_absolute_error'].mean()*-1))\n",
    "print(\"MSE %0.2f\" % (scores['test_neg_mean_squared_error'].mean()*-1))\n",
    "print(\"RMSE %0.2f\" % (scores['test_neg_root_mean_squared_error'].mean()*-1))\n",
    "print(\"R2 %0.2f\" % (scores['test_r2'].mean()))"
   ]
  },
  {
   "cell_type": "code",
   "execution_count": null,
   "metadata": {},
   "outputs": [],
   "source": []
  }
 ],
 "metadata": {
  "kernelspec": {
   "display_name": "Python 3.10.7 64-bit (microsoft store)",
   "language": "python",
   "name": "python3"
  },
  "language_info": {
   "codemirror_mode": {
    "name": "ipython",
    "version": 3
   },
   "file_extension": ".py",
   "mimetype": "text/x-python",
   "name": "python",
   "nbconvert_exporter": "python",
   "pygments_lexer": "ipython3",
   "version": "3.10.8"
  },
  "orig_nbformat": 4,
  "vscode": {
   "interpreter": {
    "hash": "f0b86550ea44597804204a48b6097d9d9fddb827366e03432e7a68bfbd6f6c1c"
   }
  }
 },
 "nbformat": 4,
 "nbformat_minor": 2
}
