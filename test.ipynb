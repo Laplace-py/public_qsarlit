{
 "cells": [
  {
   "cell_type": "code",
   "execution_count": 30,
   "metadata": {},
   "outputs": [],
   "source": [
    "from rdkit.Chem import MACCSkeys,Draw,AllChem,DataStructs,Descriptors\n",
    "from rdkit import Chem\n",
    "import pandas as pd\n",
    "import numpy as np\n",
    "from PIL import Image\n",
    "import base64\n",
    "from io import BytesIO"
   ]
  },
  {
   "cell_type": "code",
   "execution_count": 9,
   "metadata": {},
   "outputs": [],
   "source": [
    "df = pd.read_csv(r'C:\\Users\\Laplace\\Desktop\\work\\projetos academicos\\labmol\\Qsarlit\\streamlit_modeling\\example_modeling_dataset_for_curation.csv', sep=',')"
   ]
  },
  {
   "cell_type": "code",
   "execution_count": 44,
   "metadata": {},
   "outputs": [
    {
     "name": "stdout",
     "output_type": "stream",
     "text": [
      "<img src=\"data:image/png;base64,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\">\n"
     ]
    }
   ],
   "source": [
    "mols = [Chem.MolFromSmiles(mol) for mol in df['SMILES']]\n",
    "imgs = [Draw.MolToImage(mol) for mol in mols]\n",
    "\n",
    "def img_tag_generator(imgs):\n",
    "    BytesIOObj = BytesIO()\n",
    "    img_tag = []\n",
    "    for img in imgs:\n",
    "        img.save(BytesIOObj, format='PNG')\n",
    "        img_str = base64.b64encode(BytesIOObj.getvalue()).decode('utf-8')\n",
    "        img_tag.append(f'<img src=\"data:image/png;base64,{img_str}\">')\n",
    "    return img_tag"
   ]
  }
 ],
 "metadata": {
  "kernelspec": {
   "display_name": "Python 3.10.6 ('qsarlit')",
   "language": "python",
   "name": "python3"
  },
  "language_info": {
   "codemirror_mode": {
    "name": "ipython",
    "version": 3
   },
   "file_extension": ".py",
   "mimetype": "text/x-python",
   "name": "python",
   "nbconvert_exporter": "python",
   "pygments_lexer": "ipython3",
   "version": "3.10.6"
  },
  "orig_nbformat": 4,
  "vscode": {
   "interpreter": {
    "hash": "1a8a34fa9186bd093c57f21956799533a87a0061852dd9d6df943abfe0240f91"
   }
  }
 },
 "nbformat": 4,
 "nbformat_minor": 2
}
